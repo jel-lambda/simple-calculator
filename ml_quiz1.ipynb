{
  "nbformat": 4,
  "nbformat_minor": 0,
  "metadata": {
    "colab": {
      "provenance": [],
      "collapsed_sections": [],
      "authorship_tag": "ABX9TyOBv+PSyK3HHPJDmpXWksbj",
      "include_colab_link": true
    },
    "kernelspec": {
      "name": "python3",
      "display_name": "Python 3"
    },
    "language_info": {
      "name": "python"
    }
  },
  "cells": [
    {
      "cell_type": "markdown",
      "metadata": {
        "id": "view-in-github",
        "colab_type": "text"
      },
      "source": [
        "<a href=\"https://colab.research.google.com/github/jel-lambda/simple-calculator/blob/main/ml_quiz1.ipynb\" target=\"_parent\"><img src=\"https://colab.research.google.com/assets/colab-badge.svg\" alt=\"Open In Colab\"/></a>"
      ]
    },
    {
      "cell_type": "code",
      "source": [
        "import numpy as np"
      ],
      "metadata": {
        "id": "WF0s2l7DJTgf"
      },
      "execution_count": 2,
      "outputs": []
    },
    {
      "cell_type": "code",
      "execution_count": 17,
      "metadata": {
        "colab": {
          "base_uri": "https://localhost:8080/"
        },
        "id": "SX8zfjGgH03B",
        "outputId": "c0ad2de8-549b-4205-a92d-87c8e3bd73dd"
      },
      "outputs": [
        {
          "output_type": "stream",
          "name": "stdout",
          "text": [
            "1.5076407318703586\n",
            "-1.5076407318703584\n"
          ]
        }
      ],
      "source": [
        "x = 1.7\n",
        "y = -1.2\n",
        "\n",
        "\n",
        "xz = 2*x+20*np.pi*np.sin(2*np.pi*x)\n",
        "yz = 2*y+20*np.pi*np.sin(2*np.pi*y)\n",
        "\n",
        "\n",
        "for i in range(100):\n",
        "    x += 0.001*(2*x+20*np.pi*np.sin(2*np.pi*x))\n",
        "    y += 0.001*(2*y+20*np.pi*np.sin(2*np.pi*y))\n",
        "\n",
        "print(x)\n",
        "print(y)\n"
      ]
    }
  ]
}