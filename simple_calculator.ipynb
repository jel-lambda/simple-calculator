{
  "nbformat": 4,
  "nbformat_minor": 0,
  "metadata": {
    "colab": {
      "name": "simple-calculator.ipynb",
      "provenance": [],
      "collapsed_sections": [],
      "authorship_tag": "ABX9TyO6q7hE9SSXD/9ZWkHszbiF",
      "include_colab_link": true
    },
    "kernelspec": {
      "name": "python3",
      "display_name": "Python 3"
    },
    "language_info": {
      "name": "python"
    }
  },
  "cells": [
    {
      "cell_type": "markdown",
      "metadata": {
        "id": "view-in-github",
        "colab_type": "text"
      },
      "source": [
        "<a href=\"https://colab.research.google.com/github/sheee7/simple-calculator/blob/main/simple_calculator.ipynb\" target=\"_parent\"><img src=\"https://colab.research.google.com/assets/colab-badge.svg\" alt=\"Open In Colab\"/></a>"
      ]
    },
    {
      "cell_type": "code",
      "source": [
        "import numpy as np"
      ],
      "metadata": {
        "id": "Wp6BxcbijR0B"
      },
      "execution_count": null,
      "outputs": []
    },
    {
      "cell_type": "code",
      "source": [
        "def simple_calc(total, tax, tip, perarr):\n",
        "    amount=list(range(len(perarr)));\n",
        "    for i in range(len(perarr)):\n",
        "        percent=perarr[i]/total\n",
        "        amount[i]=perarr[i]+(tax*percent)+(tip*percent)\n",
        "    print(\"amount:\", amount)\n",
        "    print(\"sum:\",sum(amount))\n"
      ],
      "metadata": {
        "id": "HukG0GRwjttY"
      },
      "execution_count": null,
      "outputs": []
    },
    {
      "cell_type": "code",
      "source": [
        "perarr=[17.2,18.7,16.7, 17.2,16.2,18.2, 16.2]\n",
        "simple_calc(120.4,10.08,20, perarr)"
      ],
      "metadata": {
        "colab": {
          "base_uri": "https://localhost:8080/"
        },
        "id": "IZ6Rr1g7qWFD",
        "outputId": "715c045f-c5a9-4dad-a12f-f5c87a0a1bf5"
      },
      "execution_count": null,
      "outputs": [
        {
          "output_type": "stream",
          "name": "stdout",
          "text": [
            "amount: [21.497142857142858, 23.37189368770764, 20.872225913621264, 21.497142857142858, 20.247308970099667, 22.746976744186043, 20.247308970099667]\n",
            "sum: 150.48000000000002\n"
          ]
        }
      ]
    }
  ]
}